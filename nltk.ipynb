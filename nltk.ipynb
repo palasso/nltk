{
 "cells": [
  {
   "cell_type": "markdown",
   "metadata": {},
   "source": [
    "# Import libraries"
   ]
  },
  {
   "cell_type": "code",
   "execution_count": 1,
   "metadata": {},
   "outputs": [],
   "source": [
    "import numpy as np\n",
    "import pandas as pd"
   ]
  },
  {
   "cell_type": "markdown",
   "metadata": {},
   "source": [
    "# Ngram Language Model"
   ]
  },
  {
   "cell_type": "code",
   "execution_count": 2,
   "metadata": {},
   "outputs": [],
   "source": [
    "from nltk.util import ngrams\n",
    "from nltk import word_tokenize, sent_tokenize\n",
    "from nltk.tokenize.treebank import TreebankWordDetokenizer\n",
    "from nltk.lm.preprocessing import padded_everygram_pipeline, pad_both_ends\n",
    "from nltk.lm import Vocabulary, MLE, Lidstone, WittenBellInterpolated\n",
    "from nltk.lm.models import InterpolatedLanguageModel, KneserNeyInterpolated\n",
    "from nltk.lm.smoothing import KneserNey, WittenBell"
   ]
  },
  {
   "cell_type": "code",
   "execution_count": 3,
   "metadata": {},
   "outputs": [],
   "source": [
    "from modifications.models import Lidstone as MLidstone\n",
    "from modifications.models import KneserNeyInterpolated as MKneserNeyInterpolated\n",
    "from modifications.models import WittenBellInterpolated as MWittenBellInterpolated"
   ]
  },
  {
   "cell_type": "markdown",
   "metadata": {},
   "source": [
    "## Helper functions"
   ]
  },
  {
   "cell_type": "code",
   "execution_count": 4,
   "metadata": {},
   "outputs": [
    {
     "name": "stderr",
     "output_type": "stream",
     "text": [
      "[nltk_data] Downloading package europarl_raw to\n",
      "[nltk_data]     /home/palasso/nltk_data...\n",
      "[nltk_data]   Package europarl_raw is already up-to-date!\n"
     ]
    },
    {
     "data": {
      "text/plain": [
       "True"
      ]
     },
     "execution_count": 4,
     "metadata": {},
     "output_type": "execute_result"
    }
   ],
   "source": [
    "import nltk\n",
    "nltk.download('europarl_raw')"
   ]
  },
  {
   "cell_type": "code",
   "execution_count": 5,
   "metadata": {},
   "outputs": [],
   "source": [
    "from nltk.corpus.europarl_raw import english"
   ]
  },
  {
   "cell_type": "code",
   "execution_count": 6,
   "metadata": {},
   "outputs": [],
   "source": [
    "def language_model_method(smoothing_method, order, smoothing_parameter, vocabulary):\n",
    "    if smoothing_method == 'LID':\n",
    "        lm = Lidstone(gamma=smoothing_parameter, order=order, vocabulary=vocabulary)\n",
    "    elif smoothing_method == 'LIDM':\n",
    "        lm = MLidstone(gamma=smoothing_parameter, order=order, vocabulary=vocabulary)\n",
    "    elif smoothing_method == 'KNI':\n",
    "        lm = KneserNeyInterpolated(order=order, discount=smoothing_parameter, vocabulary=vocabulary)\n",
    "    elif smoothing_method == 'KNIM':\n",
    "        lm = MKneserNeyInterpolated(order=order, discount=smoothing_parameter, vocabulary=vocabulary)\n",
    "    elif smoothing_method == 'WBI':\n",
    "        lm = WittenBellInterpolated(order=order, vocabulary=vocabulary)\n",
    "    elif smoothing_method == 'WBIM':\n",
    "        lm = MWittenBellInterpolated(order=order, vocabulary=vocabulary)\n",
    "    return lm\n",
    "\n",
    "\n",
    "def train_ngram_lm(smoothing_method, order, smoothing_parameter):\n",
    "    training_ngrams, padded_sents = padded_everygram_pipeline(order, english.sents())\n",
    "    lm = language_model_method(smoothing_method=smoothing_method, order=order, smoothing_parameter=smoothing_parameter, vocabulary=Vocabulary(padded_sents, unk_cutoff=10))\n",
    "    lm.fit(training_ngrams)\n",
    "    return lm\n",
    "\n",
    "\n",
    "def train_ngram_language_models(order=3):\n",
    "    smoothings = {'LID': 0.005, 'LIDM': 0.005, 'KNI': 0.93, 'KNIM': 0.93, 'WBI': 1, 'WBIM': 1}\n",
    "    ngram = dict()\n",
    "    for smoothing_method, smoothing_parameter in smoothings.items():\n",
    "        ngram[smoothing_method] = train_ngram_lm(smoothing_method, order, smoothing_parameter)\n",
    "    return ngram"
   ]
  },
  {
   "cell_type": "code",
   "execution_count": 7,
   "metadata": {},
   "outputs": [
    {
     "data": {
      "text/plain": [
       "'3.5'"
      ]
     },
     "execution_count": 7,
     "metadata": {},
     "output_type": "execute_result"
    }
   ],
   "source": [
    "nltk.__version__"
   ]
  },
  {
   "cell_type": "markdown",
   "metadata": {},
   "source": [
    "## Train ngram language models"
   ]
  },
  {
   "cell_type": "code",
   "execution_count": 8,
   "metadata": {},
   "outputs": [],
   "source": [
    "trigram_lm = train_ngram_language_models(order=3)"
   ]
  },
  {
   "cell_type": "code",
   "execution_count": 9,
   "metadata": {},
   "outputs": [],
   "source": [
    "fivegram_lm = train_ngram_language_models(order=5)"
   ]
  },
  {
   "cell_type": "markdown",
   "metadata": {},
   "source": [
    "## Generate ngrams to calculate their logscores"
   ]
  },
  {
   "cell_type": "code",
   "execution_count": 10,
   "metadata": {},
   "outputs": [],
   "source": [
    "training_ngrams, padded_sents = padded_everygram_pipeline(5, english.sents())\n",
    "ngrams = [ngram for sent in training_ngrams for ngram in sent]\n",
    "trigrams = [ngram for ngram in ngrams if len(ngram) == 3]\n",
    "fivegrams = [ngram for ngram in ngrams if len(ngram) == 5]"
   ]
  },
  {
   "cell_type": "code",
   "execution_count": 11,
   "metadata": {},
   "outputs": [],
   "source": [
    "trigrams_test = [(ngram[-1], ngram[:-1]) for ngram in trigrams]\n",
    "fivegrams_test = [(ngram[-1], ngram[:-1]) for ngram in fivegrams]"
   ]
  },
  {
   "cell_type": "markdown",
   "metadata": {},
   "source": [
    "## Test speed"
   ]
  },
  {
   "cell_type": "code",
   "execution_count": 12,
   "metadata": {},
   "outputs": [],
   "source": [
    "import timeit"
   ]
  },
  {
   "cell_type": "code",
   "execution_count": 13,
   "metadata": {},
   "outputs": [],
   "source": [
    "calc = lambda lm, test_set: [lm.logscore(*ngram) for ngram in test_set]"
   ]
  },
  {
   "cell_type": "code",
   "execution_count": 14,
   "metadata": {},
   "outputs": [],
   "source": [
    "times = {}\n",
    "values = {}\n",
    "for key, lm in trigram_lm.items():\n",
    "    times[key] = timeit.timeit(\"[calc(lm, trigrams_test[:40])]\", globals=globals(), number=100)\n",
    "    values[key] = calc(lm, trigrams_test[:40])"
   ]
  },
  {
   "cell_type": "code",
   "execution_count": 15,
   "metadata": {},
   "outputs": [
    {
     "name": "stdout",
     "output_type": "stream",
     "text": [
      "True\n",
      "True\n",
      "True\n"
     ]
    }
   ],
   "source": [
    "print(values['LID'] == values['LIDM'])\n",
    "print(values['KNI'] == values['KNIM'])\n",
    "print(values['WBI'] == values['WBIM'])"
   ]
  },
  {
   "cell_type": "code",
   "execution_count": 16,
   "metadata": {},
   "outputs": [
    {
     "data": {
      "text/plain": [
       "{'LID': 44.19068663800135,\n",
       " 'LIDM': 0.044285511001362465,\n",
       " 'KNI': 47.008701104001375,\n",
       " 'KNIM': 0.42280687999664224,\n",
       " 'WBI': 161.33350436899855,\n",
       " 'WBIM': 0.6393959919987537}"
      ]
     },
     "execution_count": 16,
     "metadata": {},
     "output_type": "execute_result"
    }
   ],
   "source": [
    "times"
   ]
  },
  {
   "cell_type": "code",
   "execution_count": 17,
   "metadata": {},
   "outputs": [],
   "source": [
    "times = {}\n",
    "values = {}\n",
    "for key, lm in fivegram_lm.items():\n",
    "    times[key] = timeit.timeit(\"[calc(lm, fivegrams_test[:40])]\", globals=globals(), number=100)\n",
    "    values[key] = calc(lm, trigrams_test[:40])"
   ]
  },
  {
   "cell_type": "code",
   "execution_count": 18,
   "metadata": {},
   "outputs": [
    {
     "name": "stdout",
     "output_type": "stream",
     "text": [
      "True\n",
      "True\n",
      "True\n"
     ]
    }
   ],
   "source": [
    "print(values['LID'] == values['LIDM'])\n",
    "print(values['KNI'] == values['KNIM'])\n",
    "print(values['WBI'] == values['WBIM'])"
   ]
  },
  {
   "cell_type": "code",
   "execution_count": 19,
   "metadata": {},
   "outputs": [
    {
     "data": {
      "text/plain": [
       "{'LID': 47.535225217001425,\n",
       " 'LIDM': 0.058239693000359694,\n",
       " 'KNI': 47.33269546700103,\n",
       " 'KNIM': 0.5418092250001791,\n",
       " 'WBI': 1277.4404161340026,\n",
       " 'WBIM': 1.4441447879980842}"
      ]
     },
     "execution_count": 19,
     "metadata": {},
     "output_type": "execute_result"
    }
   ],
   "source": [
    "times"
   ]
  },
  {
   "cell_type": "code",
   "execution_count": null,
   "metadata": {},
   "outputs": [],
   "source": []
  }
 ],
 "metadata": {
  "kernelspec": {
   "display_name": "Python 3",
   "language": "python",
   "name": "python3"
  },
  "language_info": {
   "codemirror_mode": {
    "name": "ipython",
    "version": 3
   },
   "file_extension": ".py",
   "mimetype": "text/x-python",
   "name": "python",
   "nbconvert_exporter": "python",
   "pygments_lexer": "ipython3",
   "version": "3.8.1"
  }
 },
 "nbformat": 4,
 "nbformat_minor": 4
}
